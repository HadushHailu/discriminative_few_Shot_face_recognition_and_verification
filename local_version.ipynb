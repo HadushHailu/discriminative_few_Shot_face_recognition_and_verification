{
 "cells": [
  {
   "cell_type": "markdown",
   "id": "219be744-6e70-4c1e-bf6f-440c631df1da",
   "metadata": {},
   "source": [
    "### References: \n",
    "- https://www.cs.cmu.edu/~rsalakhu/papers/oneshot1.pdf\n",
    "- http://vis-www.cs.umass.edu/Lfw/#download "
   ]
  },
  {
   "cell_type": "markdown",
   "id": "7e6e3afd-1e9b-4a5a-a1c7-b77b5221c453",
   "metadata": {},
   "source": [
    "## 01_preprocessing"
   ]
  },
  {
   "cell_type": "markdown",
   "id": "eef91253-d03c-4e4e-b89d-cceb1cfeaf81",
   "metadata": {},
   "source": [
    "### 1.1 Import dependencies"
   ]
  },
  {
   "cell_type": "code",
   "execution_count": 1,
   "id": "f06288ee-7237-4dae-823c-ec0e53d9cee9",
   "metadata": {},
   "outputs": [],
   "source": [
    "# important standard dependencies\n",
    "import cv2\n",
    "import os\n",
    "import random\n",
    "import numpy as np\n",
    "from matplotlib import pyplot as plt"
   ]
  },
  {
   "cell_type": "code",
   "execution_count": 5,
   "id": "3b61c1a3-468f-454f-b80e-6ca1dc365e40",
   "metadata": {},
   "outputs": [],
   "source": [
    "# Important tensorflow dependencies - functional API\n",
    "from tensorflow.keras.models import Model\n",
    "from tensorflow.keras.layers import Layer, Conv2D, Dense, MaxPooling2D, Input, Flatten\n",
    "import tensorflow as tf\n"
   ]
  },
  {
   "cell_type": "markdown",
   "id": "725c3dff-6abe-4127-a199-12cdfcc62d14",
   "metadata": {},
   "source": [
    "### 1.2 Set GPU Growth"
   ]
  },
  {
   "cell_type": "code",
   "execution_count": 4,
   "id": "aa2532ce-f68e-4d34-8af7-ab65bfbcca78",
   "metadata": {},
   "outputs": [],
   "source": [
    "# Avoid OOM errors by settings GPU Memeory Consumption Growth\n",
    "gpus = tf.config.experimental.list_physical_devices('GPU')\n",
    "for gpu in gpus:\n",
    "    tf.config.experimental.set_memory_growth(gpu, True)"
   ]
  },
  {
   "cell_type": "code",
   "execution_count": 5,
   "id": "3435f917-f647-4144-84b4-318445416348",
   "metadata": {},
   "outputs": [
    {
     "data": {
      "text/plain": [
       "[PhysicalDevice(name='/physical_device:GPU:0', device_type='GPU')]"
      ]
     },
     "execution_count": 5,
     "metadata": {},
     "output_type": "execute_result"
    }
   ],
   "source": [
    "gpus"
   ]
  },
  {
   "cell_type": "markdown",
   "id": "f1a857a8-1890-4ad6-a20b-64deaa964264",
   "metadata": {},
   "source": [
    "### 1.3 Create Folder structure"
   ]
  },
  {
   "cell_type": "code",
   "execution_count": 6,
   "id": "dadea3af-621e-4519-b2d8-b752d1cedf3c",
   "metadata": {},
   "outputs": [],
   "source": [
    "# setup paths\n",
    "POS_PATH = os.path.join('data', 'posetive')\n",
    "NEG_PATH = os.path.join('data', 'negative')\n",
    "ANC_PATH = os.path.join('data', 'anchor')"
   ]
  },
  {
   "cell_type": "code",
   "execution_count": 7,
   "id": "b20a13a9-1005-41c4-a024-560d06afa323",
   "metadata": {},
   "outputs": [],
   "source": [
    "# # Make the directories\n",
    "# !rm -r data\n",
    "# os.makedirs(POS_PATH)\n",
    "# os.makedirs(NEG_PATH)\n",
    "# os.makedirs(ANC_PATH)"
   ]
  },
  {
   "cell_type": "code",
   "execution_count": 8,
   "id": "de015f71-73b6-49c1-8760-cff2f29cf7f7",
   "metadata": {},
   "outputs": [
    {
     "data": {
      "text/plain": [
       "'data/posetive'"
      ]
     },
     "execution_count": 8,
     "metadata": {},
     "output_type": "execute_result"
    }
   ],
   "source": [
    "POS_PATH"
   ]
  },
  {
   "cell_type": "markdown",
   "id": "5b98cc73-8627-48a8-8153-e839f14d8f28",
   "metadata": {},
   "source": [
    "# 02_Collect Posetives and Anchors"
   ]
  },
  {
   "cell_type": "markdown",
   "id": "659996c6-65b5-4d26-9b54-a7ad7dc458d9",
   "metadata": {},
   "source": [
    "### 2.1 Untar Labelled Faces in the wild Dataset"
   ]
  },
  {
   "cell_type": "code",
   "execution_count": 6,
   "id": "018801ae-ea39-473c-b591-01cbc96480a3",
   "metadata": {},
   "outputs": [],
   "source": [
    "# http://vis-www.cs.umass.edu/Lfw/  "
   ]
  },
  {
   "cell_type": "code",
   "execution_count": 7,
   "id": "418dc4cc-2d37-45ed-8489-54b3d195ca84",
   "metadata": {},
   "outputs": [
    {
     "name": "stdout",
     "output_type": "stream",
     "text": [
      "/bin/bash: /home/hadush/anaconda3/envs/tf-gpu/lib/python3.9/site-packages/cv2/../../../../lib/libtinfo.so.6: no version information available (required by /bin/bash)\n",
      "tar: lfw.tgz: Cannot open: No such file or directory\n",
      "tar: Error is not recoverable: exiting now\n"
     ]
    }
   ],
   "source": [
    "# uncompress Tar GZ Labelled Faces in the wild Dataset\n",
    "!tar -xf lfw.tgz"
   ]
  },
  {
   "cell_type": "code",
   "execution_count": 9,
   "id": "3c498908-e265-456e-9a2a-fd2da888ba4c",
   "metadata": {},
   "outputs": [],
   "source": [
    "# # Move lfw images to the following repository: data/negative\n",
    "# for directory in os.listdir('lfw'):\n",
    "#     for file in os.listdir(os.path.join('lfw',directory)):\n",
    "#         EX_PATH = os.path.join('lfw', directory, file)\n",
    "#         NEW_PATH = os.path.join(NEG_PATH, file)\n",
    "#         os.replace(EX_PATH, NEW_PATH)"
   ]
  },
  {
   "cell_type": "markdown",
   "id": "1332acbb-b0c9-4d3e-8158-694b26bb744c",
   "metadata": {},
   "source": [
    "### 2.2 Collect Positive and Anchor Classes"
   ]
  },
  {
   "cell_type": "code",
   "execution_count": 10,
   "id": "7c430d50-0884-418f-90d6-ca28bb4de952",
   "metadata": {},
   "outputs": [],
   "source": [
    "# Import uuid library to generate unique names\n",
    "import uuid"
   ]
  },
  {
   "cell_type": "code",
   "execution_count": 11,
   "id": "ea8e2e74-c2fd-40e1-82ab-3b1501d1a5d7",
   "metadata": {},
   "outputs": [
    {
     "name": "stderr",
     "output_type": "stream",
     "text": [
      "[ WARN:0@59.322] global /croot/opencv-suite_1676452025216/work/modules/videoio/src/cap_gstreamer.cpp (862) isPipelinePlaying OpenCV | GStreamer warning: GStreamer: pipeline have not been created\n"
     ]
    }
   ],
   "source": [
    "cap = cv2.VideoCapture(0)\n",
    "while cap.isOpened():\n",
    "    ret, frame = cap.read()\n",
    "\n",
    "    # Cut-down the frame to 250, 250 pixels size\n",
    "    frame = frame[100:100+250, 200:200+250, :]\n",
    "\n",
    "    # Collect anchors dataset\n",
    "    if cv2.waitKey(1) & 0XFF == ord('a'):\n",
    "        # Create the unique file path\n",
    "        imgname= os.path.join( ANC_PATH, '{}.jpg'.format(uuid.uuid1()))\n",
    "        # Write out anchor image\n",
    "        cv2.imwrite(imgname, frame)\n",
    "        \n",
    "    # Collect positives dataset\n",
    "    if cv2.waitKey(1) & 0XFF == ord('p'):\n",
    "        # Create the unique file path\n",
    "        imgname= os.path.join( POS_PATH, '{}.jpg'.format(uuid.uuid1()))\n",
    "        # Write out anchor image\n",
    "        cv2.imwrite(imgname, frame)\n",
    "    \n",
    "    cv2.imshow(\"Image Collection Frame\", frame)\n",
    "\n",
    "    # breaking gracefully\n",
    "    if cv2.waitKey(1) & 0XFF == ord('q'):\n",
    "        break\n",
    "# Release the webcam\n",
    "cap.release()\n",
    "# Close the image show frame\n",
    "cv2.destroyAllWindows()"
   ]
  },
  {
   "cell_type": "code",
   "execution_count": 11,
   "id": "67e476a4-d314-4193-819f-17563c7ee5e5",
   "metadata": {},
   "outputs": [],
   "source": [
    "cap.release()\n",
    "# Close the image show frame\n",
    "cv2.destroyAllWindows()"
   ]
  },
  {
   "cell_type": "markdown",
   "id": "dd570145-5b6c-423e-8e7a-220ced39b6c0",
   "metadata": {},
   "source": [
    "# 03  Load and Preprocess Images"
   ]
  },
  {
   "cell_type": "markdown",
   "id": "92da5d1b-7868-4e2d-a60c-c66189dbf2fe",
   "metadata": {},
   "source": [
    "### 3.1 Get Images Directories"
   ]
  },
  {
   "cell_type": "code",
   "execution_count": 13,
   "id": "6513f04a-7665-4542-8d3c-d2b69918c6d6",
   "metadata": {},
   "outputs": [],
   "source": [
    "anchor = tf.data.Dataset.list_files(ANC_PATH + '/*.jpg').take(300)\n",
    "positive = tf.data.Dataset.list_files(POS_PATH + '/*.jpg').take(300)\n",
    "negative = tf.data.Dataset.list_files(NEG_PATH + '/*.jpg').take(300)"
   ]
  },
  {
   "cell_type": "code",
   "execution_count": 14,
   "id": "ae843a96-3d13-492f-b4a8-222865a5d698",
   "metadata": {},
   "outputs": [
    {
     "data": {
      "text/plain": [
       "b'data/anchor/b455a902-18c3-11ef-9a82-709cd1155f4a.jpg'"
      ]
     },
     "execution_count": 14,
     "metadata": {},
     "output_type": "execute_result"
    }
   ],
   "source": [
    "dir_test = anchor.as_numpy_iterator()\n",
    "dir_test.next()"
   ]
  },
  {
   "cell_type": "markdown",
   "id": "048ed41d-6d41-44a9-9f66-013bfb23e8de",
   "metadata": {},
   "source": [
    "### 3.2 Preprocessing - scale and resize"
   ]
  },
  {
   "cell_type": "code",
   "execution_count": 15,
   "id": "ef977531-a0ab-4af1-9582-09698a45554d",
   "metadata": {},
   "outputs": [],
   "source": [
    "def preprocess(file_path):\n",
    "    # Read In image from file path\n",
    "    byte_img = tf.io.read_file(file_path)\n",
    "    # Load in the image\n",
    "    img = tf.io.decode_jpeg(byte_img)\n",
    "    # Preprocessing step - resize the image to a 100 x 100 x 3\n",
    "    img = tf.image.resize(img, (100,100))\n",
    "    # scaling image between 0 and 1\n",
    "    img = img/255.0\n",
    "    \n",
    "    return img"
   ]
  },
  {
   "cell_type": "code",
   "execution_count": 17,
   "id": "876efc9b-752b-474e-86a5-541a40315a05",
   "metadata": {},
   "outputs": [
    {
     "data": {
      "text/plain": [
       "<matplotlib.image.AxesImage at 0x7a4a8d7ded30>"
      ]
     },
     "execution_count": 17,
     "metadata": {},
     "output_type": "execute_result"
    },
    {
     "data": {
      "image/png": "[encoded data removed]",
      "text/plain": [
       "<Figure size 640x480 with 1 Axes>"
      ]
     },
     "metadata": {},
     "output_type": "display_data"
    }
   ],
   "source": [
    "img = preprocess(dir_test.next())\n",
    "plt.imshow(img)"
   ]
  },
  {
   "cell_type": "markdown",
   "id": "dec06f9c-f9e0-4ce4-a5b3-509bd5a85397",
   "metadata": {},
   "source": [
    "### 3.3 Create labelled dataset"
   ]
  },
  {
   "cell_type": "code",
   "execution_count": 18,
   "id": "89f94471-b6ba-491f-a170-df199012a7c9",
   "metadata": {},
   "outputs": [],
   "source": [
    "## tf.data.Dataset.from_tensor_slices is used here to provide a wr\n",
    "positives = tf.data.Dataset.zip((anchor, positive, tf.data.Dataset.from_tensor_slices(tf.ones(len(anchor)))))\n",
    "negatives = tf.data.Dataset.zip((anchor, negative, tf.data.Dataset.from_tensor_slices(tf.zeros(len(anchor)))))\n",
    "data = positives.concatenate(negatives)"
   ]
  },
  {
   "cell_type": "code",
   "execution_count": 19,
   "id": "53164048-fbb6-4558-b358-a586f66def77",
   "metadata": {},
   "outputs": [
    {
     "data": {
      "text/plain": [
       "(b'data/anchor/f4709592-18c3-11ef-9a82-709cd1155f4a.jpg',\n",
       " b'data/posetive/e93c6018-18c1-11ef-9a82-709cd1155f4a.jpg',\n",
       " 1.0)"
      ]
     },
     "execution_count": 19,
     "metadata": {},
     "output_type": "execute_result"
    }
   ],
   "source": [
    "sample = data.as_numpy_iterator()\n",
    "sample.next()"
   ]
  },
  {
   "cell_type": "markdown",
   "id": "0be653d3-f19f-495f-ad7b-9ef9d2221734",
   "metadata": {},
   "source": [
    "### 3.4 Build train and test partitions"
   ]
  },
  {
   "cell_type": "code",
   "execution_count": 20,
   "id": "a78523eb-1763-4932-816d-f713bf4daef4",
   "metadata": {},
   "outputs": [],
   "source": [
    "def preprocess_twin(input_img, validation_img, label):\n",
    "    return(preprocess(input_img),preprocess(validation_img), label)\n"
   ]
  },
  {
   "cell_type": "code",
   "execution_count": 21,
   "id": "8928efbc-2493-4906-b676-accfd3cc9470",
   "metadata": {},
   "outputs": [],
   "source": [
    "res = preprocess_twin(*sample.next())"
   ]
  },
  {
   "cell_type": "code",
   "execution_count": 22,
   "id": "402ac936-0407-44c1-b418-6931d7b07dc9",
   "metadata": {},
   "outputs": [],
   "source": [
    "# Build dataloader pipeline\n",
    "data = data.map(preprocess_twin)\n",
    "data = data.cache()\n",
    "data = data.shuffle(buffer_size=1024)"
   ]
  },
  {
   "cell_type": "code",
   "execution_count": 23,
   "id": "4939c13c-9985-4549-af6a-aaf347494a3e",
   "metadata": {},
   "outputs": [
    {
     "data": {
      "text/plain": [
       "<ShuffleDataset shapes: ((100, 100, None), (100, 100, None), ()), types: (tf.float32, tf.float32, tf.float32)>"
      ]
     },
     "execution_count": 23,
     "metadata": {},
     "output_type": "execute_result"
    }
   ],
   "source": [
    "data"
   ]
  },
  {
   "cell_type": "code",
   "execution_count": 24,
   "id": "449c6dbc-6335-4a1f-9bca-893524300903",
   "metadata": {},
   "outputs": [],
   "source": [
    "# Training partition\n",
    "train_data = data.take(round(len(data) * 0.7))\n",
    "train_data = train_data.batch(16)\n",
    "train_data = train_data.prefetch(8)"
   ]
  },
  {
   "cell_type": "code",
   "execution_count": 25,
   "id": "d85e3f14-4b97-4097-af72-e8cb58ca6793",
   "metadata": {},
   "outputs": [],
   "source": [
    "# print(train_data)\n",
    "# train_samples = train_data.as_numpy_iterator()\n",
    "# train_sample = train_samples.next()\n",
    "# print(len(train_sample[0]))"
   ]
  },
  {
   "cell_type": "code",
   "execution_count": 26,
   "id": "786996bf-a112-475f-90fd-3bb23419cc12",
   "metadata": {},
   "outputs": [],
   "source": [
    "# Test partition\n",
    "test_data = data.skip(round(len(data) * 0.7))\n",
    "test_data = test_data.take(round(len(data) * 0.3))\n",
    "test_data = test_data.batch(16)\n",
    "test_data = test_data.prefetch(8)"
   ]
  },
  {
   "cell_type": "markdown",
   "id": "96371d8e-3342-4a35-b366-b77525770729",
   "metadata": {},
   "source": [
    "# 04 Model Engineering"
   ]
  },
  {
   "cell_type": "markdown",
   "id": "5b9fb4a4-49c7-4e37-8594-023a3d66272b",
   "metadata": {},
   "source": [
    "### Building an embedding layer"
   ]
  },
  {
   "cell_type": "code",
   "execution_count": 27,
   "id": "619720ae-da2d-4280-8680-dac861ef4498",
   "metadata": {},
   "outputs": [],
   "source": [
    "def make_embedding():\n",
    "    inp = Input(shape = (100,100,3), name = 'Input_image')\n",
    "\n",
    "    # First block\n",
    "    c1 = Conv2D(64, (10,10), activation='relu')(inp)\n",
    "    m1 = MaxPooling2D(64, (2,2), padding='same')(c1)\n",
    "\n",
    "    # Second block\n",
    "    c2 = Conv2D(128, (7,7), activation='relu')(m1)\n",
    "    m2 = MaxPooling2D(64, (2,2), padding='same')(c2)\n",
    "\n",
    "    # Thrid block\n",
    "    c3 = Conv2D(128, (4,4), activation='relu')(m2)\n",
    "    m3 = MaxPooling2D(64, (2,2), padding='same')(c3)\n",
    "\n",
    "    # Final blcok\n",
    "    c4 = Conv2D(256, (4,4), activation='relu')(m3)\n",
    "    f1 = Flatten()(c4)\n",
    "    d1 = Dense(4096, activation='sigmoid')(f1)\n",
    "    \n",
    "    return Model(inputs = [inp] , outputs = [d1], name = 'embedding')"
   ]
  },
  {
   "cell_type": "code",
   "execution_count": 28,
   "id": "d87c981d-5450-4c06-8ee8-fca44e645c34",
   "metadata": {},
   "outputs": [],
   "source": [
    "embedding = make_embedding()"
   ]
  },
  {
   "cell_type": "code",
   "execution_count": 29,
   "id": "76f30e72-9602-4167-b134-ecb29396dec0",
   "metadata": {},
   "outputs": [
    {
     "name": "stdout",
     "output_type": "stream",
     "text": [
      "Model: \"embedding\"\n",
      "_________________________________________________________________\n",
      "Layer (type)                 Output Shape              Param #   \n",
      "=================================================================\n",
      "Input_image (InputLayer)     [(None, 100, 100, 3)]     0         \n",
      "_________________________________________________________________\n",
      "conv2d (Conv2D)              (None, 91, 91, 64)        19264     \n",
      "_________________________________________________________________\n",
      "max_pooling2d (MaxPooling2D) (None, 46, 46, 64)        0         \n",
      "_________________________________________________________________\n",
      "conv2d_1 (Conv2D)            (None, 40, 40, 128)       401536    \n",
      "_________________________________________________________________\n",
      "max_pooling2d_1 (MaxPooling2 (None, 20, 20, 128)       0         \n",
      "_________________________________________________________________\n",
      "conv2d_2 (Conv2D)            (None, 17, 17, 128)       262272    \n",
      "_________________________________________________________________\n",
      "max_pooling2d_2 (MaxPooling2 (None, 9, 9, 128)         0         \n",
      "_________________________________________________________________\n",
      "conv2d_3 (Conv2D)            (None, 6, 6, 256)         524544    \n",
      "_________________________________________________________________\n",
      "flatten (Flatten)            (None, 9216)              0         \n",
      "_________________________________________________________________\n",
      "dense (Dense)                (None, 4096)              37752832  \n",
      "=================================================================\n",
      "Total params: 38,960,448\n",
      "Trainable params: 38,960,448\n",
      "Non-trainable params: 0\n",
      "_________________________________________________________________\n"
     ]
    }
   ],
   "source": [
    "embedding.summary()"
   ]
  },
  {
   "cell_type": "markdown",
   "id": "aeeaed8a-7f00-4079-977d-808ff22a373c",
   "metadata": {},
   "source": [
    "### Create an L1 distance layer"
   ]
  },
  {
   "cell_type": "code",
   "execution_count": 30,
   "id": "bc804068-9219-439d-9830-df5a1c9de488",
   "metadata": {},
   "outputs": [],
   "source": [
    "# Siamese L1 Distance class\n",
    "class L1Dist(Layer):\n",
    "    # Init method - inheritance\n",
    "    def __init__(self, **kwargs):\n",
    "        super().__init__()\n",
    "\n",
    "    # Similarity calculation\n",
    "    def call(self, input_embedding, validation_embedding):\n",
    "        return tf.math.abs(input_embedding - validation_embedding)"
   ]
  },
  {
   "cell_type": "code",
   "execution_count": 31,
   "id": "09aed548-60cb-470b-91a5-906f8767890d",
   "metadata": {},
   "outputs": [],
   "source": [
    "# l1 = L1Dist()\n",
    "# l1(anchor_embedding, validation_embedding)"
   ]
  },
  {
   "cell_type": "markdown",
   "id": "836d4a8e-c972-47c8-8829-1a5f5a7bcf70",
   "metadata": {},
   "source": [
    "### Compile the Siamese Network"
   ]
  },
  {
   "cell_type": "code",
   "execution_count": 32,
   "id": "41c89827-508d-4f45-b29f-8a7add73bf34",
   "metadata": {},
   "outputs": [],
   "source": [
    "def make_siamese_model():\n",
    "    # Anchor image input in the network\n",
    "    input_image = Input(name = 'input_img', shape = (100,100,3))\n",
    "    # Validation image in the network\n",
    "    validation_image = Input(name = 'validation_img', shape = (100,100,3))\n",
    "\n",
    "    # combine saimese distance components\n",
    "    siamese_layer = L1Dist()\n",
    "    siamese_layer._name = 'distance'\n",
    "    distances = siamese_layer(embedding(input_image), embedding(validation_image))\n",
    "\n",
    "    # classification layer\n",
    "    classifier = Dense(1, activation='sigmoid')(distances)\n",
    "    return Model(inputs=[input_image, validation_image], outputs=classifier, name = 'SiameseNetwork')"
   ]
  },
  {
   "cell_type": "code",
   "execution_count": 33,
   "id": "0e989e29-64cd-4f77-854a-2dd468a21c9a",
   "metadata": {},
   "outputs": [],
   "source": [
    "siamese_model =  make_siamese_model()"
   ]
  },
  {
   "cell_type": "code",
   "execution_count": 34,
   "id": "62943df3-ae91-4e49-8310-79e78260b33d",
   "metadata": {},
   "outputs": [
    {
     "name": "stdout",
     "output_type": "stream",
     "text": [
      "Model: \"SiameseNetwork\"\n",
      "__________________________________________________________________________________________________\n",
      "Layer (type)                    Output Shape         Param #     Connected to                     \n",
      "==================================================================================================\n",
      "input_img (InputLayer)          [(None, 100, 100, 3) 0                                            \n",
      "__________________________________________________________________________________________________\n",
      "validation_img (InputLayer)     [(None, 100, 100, 3) 0                                            \n",
      "__________________________________________________________________________________________________\n",
      "embedding (Functional)          (None, 4096)         38960448    input_img[0][0]                  \n",
      "                                                                 validation_img[0][0]             \n",
      "__________________________________________________________________________________________________\n",
      "distance (L1Dist)               (None, 4096)         0           embedding[0][0]                  \n",
      "                                                                 embedding[1][0]                  \n",
      "__________________________________________________________________________________________________\n",
      "dense_1 (Dense)                 (None, 1)            4097        distance[0][0]                   \n",
      "==================================================================================================\n",
      "Total params: 38,964,545\n",
      "Trainable params: 38,964,545\n",
      "Non-trainable params: 0\n",
      "__________________________________________________________________________________________________\n"
     ]
    }
   ],
   "source": [
    "siamese_model.summary()"
   ]
  },
  {
   "cell_type": "markdown",
   "id": "f2d8fc33-4094-483f-aeee-c9627196b91d",
   "metadata": {},
   "source": [
    "# 05_Training a NN"
   ]
  },
  {
   "cell_type": "markdown",
   "id": "ff33e829-0447-4dfa-892c-f8f117c63252",
   "metadata": {},
   "source": [
    "### 5.1 Set up a Loss function and Optimizer"
   ]
  },
  {
   "cell_type": "code",
   "execution_count": 35,
   "id": "6c174551-8910-4213-8c55-abf4f8326880",
   "metadata": {},
   "outputs": [],
   "source": [
    "binary_cross_loss = tf.losses.BinaryCrossentropy()"
   ]
  },
  {
   "cell_type": "code",
   "execution_count": 36,
   "id": "d8898a55-5abd-433e-9646-a2574fcdaac5",
   "metadata": {},
   "outputs": [],
   "source": [
    "opt = tf.keras.optimizers.Adam(1e-4) # 0.0001"
   ]
  },
  {
   "cell_type": "markdown",
   "id": "30c8d94c-f85a-482e-bad4-4bcf947196f1",
   "metadata": {},
   "source": [
    "### 5.2 Establish Checkpoints"
   ]
  },
  {
   "cell_type": "code",
   "execution_count": 37,
   "id": "0f584b01-2a37-49a8-a3d5-da88e0fd866e",
   "metadata": {},
   "outputs": [],
   "source": [
    "checkpoint_dir = './training_checkpoints'\n",
    "checkpoint_prefix = os.path.join(checkpoint_dir, 'ckpt')\n",
    "checkpoint = tf.train.Checkpoint(opt=opt, simamese_model=siamese_model)"
   ]
  },
  {
   "cell_type": "markdown",
   "id": "eef42456-c181-410b-a851-ac4ea4b6f7dd",
   "metadata": {},
   "source": [
    "### 5.3 Build a custom training step"
   ]
  },
  {
   "cell_type": "code",
   "execution_count": 38,
   "id": "3092ae2b-aae1-40da-8791-06d1788da63f",
   "metadata": {},
   "outputs": [],
   "source": [
    "@tf.function\n",
    "def train_step(batch):\n",
    "    # Record of all operations\n",
    "    with tf.GradientTape() as tape:\n",
    "        # GEt anchor and posetive images\n",
    "        x = batch[:2]\n",
    "        # Get labels\n",
    "        y = batch[2]\n",
    "\n",
    "        # Forward pass\n",
    "        y_hat = siamese_model(x, training=True)\n",
    "        # Calculate loss\n",
    "        loss = binary_cross_loss(y, y_hat)\n",
    "\n",
    "    print(loss)\n",
    "    \n",
    "    # Calculate Gradient\n",
    "    grad = tape.gradient(loss, siamese_model.trainable_variables)\n",
    "\n",
    "    # calculate updated weight and apply to siamese model\n",
    "    opt.apply_gradients(zip(grad, siamese_model.trainable_variables))\n",
    "    \n",
    "    return loss"
   ]
  },
  {
   "cell_type": "markdown",
   "id": "ab2d44ea-9568-4880-b407-d9e6e84c4f56",
   "metadata": {},
   "source": [
    "### 5.4 Create a Training loop"
   ]
  },
  {
   "cell_type": "code",
   "execution_count": 39,
   "id": "45734e3c-c855-4071-91ad-3b6e84f599f3",
   "metadata": {},
   "outputs": [],
   "source": [
    "def train(data, EPOCHS):\n",
    "    # loop through epochs\n",
    "    for epoch in range(1, EPOCHS + 1):\n",
    "        print('\\n EPOCH {}/{}'.format(epoch, EPOCHS))\n",
    "        progbar = tf.keras.utils.Progbar(len(data))\n",
    "        \n",
    "        # loop through each batch\n",
    "        for idx, batch in enumerate(data):\n",
    "            # Run train step here \n",
    "            train_step(batch)\n",
    "            progbar.update(idx+1)\n",
    "\n",
    "        # save checkpoints\n",
    "        if epoch % 10 == 0:\n",
    "            checkpoint.save(file_prefix=checkpoint_prefix)\n",
    "    "
   ]
  },
  {
   "cell_type": "markdown",
   "id": "93fba523-91b0-4fc3-9529-df807b1fa06a",
   "metadata": {},
   "source": [
    "### 5.5 Train the Model"
   ]
  },
  {
   "cell_type": "code",
   "execution_count": 40,
   "id": "f2a57594-0484-4157-888e-cab97c28ea25",
   "metadata": {},
   "outputs": [],
   "source": [
    "EPOCHS = 10"
   ]
  },
  {
   "cell_type": "code",
   "execution_count": 41,
   "id": "dc96d12d-bbfc-4b5c-82ff-66b80cf84d5a",
   "metadata": {},
   "outputs": [
    {
     "name": "stdout",
     "output_type": "stream",
     "text": [
      "\n",
      " EPOCH 1/10\n"
     ]
    },
    {
     "name": "stderr",
     "output_type": "stream",
     "text": [
      "2024-05-26 09:57:24.336896: I tensorflow/compiler/mlir/mlir_graph_optimization_pass.cc:116] None of the MLIR optimization passes are enabled (registered 2)\n",
      "2024-05-26 09:57:24.338440: I tensorflow/core/platform/profile_utils/cpu_utils.cc:112] CPU Frequency: 2599990000 Hz\n"
     ]
    },
    {
     "name": "stdout",
     "output_type": "stream",
     "text": [
      "WARNING:tensorflow:AutoGraph could not transform <function train_step at 0x7a4a8d3a8550> and will run it as-is.\n",
      "Please report this to the TensorFlow team. When filing the bug, set the verbosity to 10 (on Linux, `export AUTOGRAPH_VERBOSITY=10`) and attach the full output.\n",
      "Cause: module 'gast' has no attribute 'Index'\n",
      "To silence this warning, decorate the function with @tf.autograph.experimental.do_not_convert\n",
      "WARNING: AutoGraph could not transform <function train_step at 0x7a4a8d3a8550> and will run it as-is.\n",
      "Please report this to the TensorFlow team. When filing the bug, set the verbosity to 10 (on Linux, `export AUTOGRAPH_VERBOSITY=10`) and attach the full output.\n",
      "Cause: module 'gast' has no attribute 'Index'\n",
      "To silence this warning, decorate the function with @tf.autograph.experimental.do_not_convert\n",
      "Tensor(\"binary_crossentropy/weighted_loss/value:0\", shape=(), dtype=float32)\n",
      "Tensor(\"binary_crossentropy/weighted_loss/value:0\", shape=(), dtype=float32)\n"
     ]
    },
    {
     "name": "stderr",
     "output_type": "stream",
     "text": [
      "2024-05-26 09:57:25.278037: I tensorflow/stream_executor/platform/default/dso_loader.cc:49] Successfully opened dynamic library libcublas.so.10\n",
      "2024-05-26 09:57:25.790639: I tensorflow/stream_executor/platform/default/dso_loader.cc:49] Successfully opened dynamic library libcudnn.so.7\n",
      "2024-05-26 09:57:27.550037: W tensorflow/stream_executor/gpu/asm_compiler.cc:63] Running ptxas --version returned 256\n",
      "2024-05-26 09:57:27.603890: W tensorflow/stream_executor/gpu/redzone_allocator.cc:314] Internal: ptxas exited with non-zero error code 256, output: \n",
      "Relying on driver to perform ptx compilation. \n",
      "Modify $PATH to customize ptxas location.\n",
      "This message will be only logged once.\n"
     ]
    },
    {
     "name": "stdout",
     "output_type": "stream",
     "text": [
      "26/27 [===========================>..] - ETA: 0sTensor(\"binary_crossentropy/weighted_loss/value:0\", shape=(), dtype=float32)\n",
      "27/27 [==============================] - 29s 651ms/step\n",
      "\n",
      " EPOCH 2/10\n",
      "27/27 [==============================] - 10s 365ms/step\n",
      "\n",
      " EPOCH 3/10\n",
      "27/27 [==============================] - 10s 361ms/step\n",
      "\n",
      " EPOCH 4/10\n",
      "27/27 [==============================] - 10s 362ms/step\n",
      "\n",
      " EPOCH 5/10\n",
      "27/27 [==============================] - 10s 362ms/step\n",
      "\n",
      " EPOCH 6/10\n",
      "27/27 [==============================] - 10s 362ms/step\n",
      "\n",
      " EPOCH 7/10\n",
      "27/27 [==============================] - 10s 364ms/step\n",
      "\n",
      " EPOCH 8/10\n",
      "27/27 [==============================] - 10s 364ms/step\n",
      "\n",
      " EPOCH 9/10\n",
      "27/27 [==============================] - 10s 365ms/step\n",
      "\n",
      " EPOCH 10/10\n",
      "27/27 [==============================] - 10s 365ms/step\n"
     ]
    },
    {
     "name": "stderr",
     "output_type": "stream",
     "text": [
      "2024-05-26 09:59:19.043934: W tensorflow/core/framework/cpu_allocator_impl.cc:80] Allocation of 150994944 exceeds 10% of free system memory.\n",
      "2024-05-26 09:59:19.113906: W tensorflow/core/framework/cpu_allocator_impl.cc:80] Allocation of 150994944 exceeds 10% of free system memory.\n",
      "2024-05-26 09:59:19.211061: W tensorflow/core/framework/cpu_allocator_impl.cc:80] Allocation of 150994944 exceeds 10% of free system memory.\n"
     ]
    }
   ],
   "source": [
    "train(train_data, EPOCHS)"
   ]
  },
  {
   "cell_type": "markdown",
   "id": "948a2a68-5b9f-4e2d-ae2a-06134a9e8632",
   "metadata": {},
   "source": [
    "# 06 Evaluate the Model"
   ]
  },
  {
   "cell_type": "markdown",
   "id": "e00c15d7-ebed-436d-863f-c533bfd6db95",
   "metadata": {},
   "source": [
    "### 6.1 Make Predictions"
   ]
  },
  {
   "cell_type": "code",
   "execution_count": 42,
   "id": "618da3a4-32f2-424c-a446-8340b6e4f73e",
   "metadata": {},
   "outputs": [],
   "source": [
    "# Import metric calculation\n",
    "from tensorflow.keras.metrics import Precision, Recall"
   ]
  },
  {
   "cell_type": "code",
   "execution_count": 43,
   "id": "39b4be4b-c1a9-414f-94cc-806491858890",
   "metadata": {},
   "outputs": [],
   "source": [
    "# Get a batch of test data\n",
    "test_input, test_val, y_true = test_data.as_numpy_iterator().next()"
   ]
  },
  {
   "cell_type": "code",
   "execution_count": 44,
   "id": "6f3f4894-adee-446d-b152-ebc6d12c4d3c",
   "metadata": {},
   "outputs": [
    {
     "data": {
      "text/plain": [
       "array([[1.6581982e-06],\n",
       "       [6.9831822e-06],\n",
       "       [4.8773338e-05],\n",
       "       [8.2361976e-06],\n",
       "       [1.8195719e-06],\n",
       "       [1.3293083e-05],\n",
       "       [9.8859554e-04],\n",
       "       [7.3952657e-01],\n",
       "       [3.7771228e-04],\n",
       "       [4.1189366e-03],\n",
       "       [2.0543614e-03],\n",
       "       [9.9953890e-01],\n",
       "       [2.5601294e-06],\n",
       "       [9.9557233e-01],\n",
       "       [9.9836761e-01],\n",
       "       [9.3245244e-06]], dtype=float32)"
      ]
     },
     "execution_count": 44,
     "metadata": {},
     "output_type": "execute_result"
    }
   ],
   "source": [
    "y_hat = siamese_model.predict([test_input, test_val])\n",
    "y_hat"
   ]
  },
  {
   "cell_type": "code",
   "execution_count": 45,
   "id": "6eaaf5a1-98c0-4a98-ba47-f91a86890151",
   "metadata": {},
   "outputs": [
    {
     "data": {
      "text/plain": [
       "[0, 0, 0, 0, 0, 0, 0, 1, 0, 0, 0, 1, 0, 1, 1, 0]"
      ]
     },
     "execution_count": 45,
     "metadata": {},
     "output_type": "execute_result"
    }
   ],
   "source": [
    "# Post processing the results\n",
    "[1 if prediction > 0.5 else 0 for prediction in y_hat]"
   ]
  },
  {
   "cell_type": "code",
   "execution_count": 46,
   "id": "5bc50e71-7991-4752-829b-bd0cde256f10",
   "metadata": {},
   "outputs": [
    {
     "data": {
      "text/plain": [
       "1.0"
      ]
     },
     "execution_count": 46,
     "metadata": {},
     "output_type": "execute_result"
    }
   ],
   "source": [
    "# Create a metric object\n",
    "m  = Recall()\n",
    "\n",
    "# Calculating the recall value\n",
    "m.update_state(y_true, y_hat)\n",
    "\n",
    "# Return recall result\n",
    "m.result().numpy()"
   ]
  },
  {
   "cell_type": "markdown",
   "id": "6c255778-75af-45a8-bb12-17a1881a5a7f",
   "metadata": {},
   "source": [
    "### 6.2 Viz Result"
   ]
  },
  {
   "cell_type": "code",
   "execution_count": 47,
   "id": "ce1615f3-6447-435e-af8a-e7d627fa8f4e",
   "metadata": {},
   "outputs": [
    {
     "data": {
      "image/png": "[encoded data removed]",
      "text/plain": [
       "<Figure size 1000x800 with 2 Axes>"
      ]
     },
     "metadata": {},
     "output_type": "display_data"
    }
   ],
   "source": [
    "# set plt size\n",
    "plt.figure(figsize = (10,8))\n",
    "\n",
    "# set first subplot\n",
    "plt.subplot(1,2,1)\n",
    "plt.imshow(test_input[0])\n",
    "\n",
    "# set second subplot\n",
    "plt.subplot(1,2,2)\n",
    "plt.imshow(test_val[0])\n",
    "plt.show()"
   ]
  },
  {
   "cell_type": "markdown",
   "id": "3e485bcd-1171-4694-889f-b5dc03c231c2",
   "metadata": {},
   "source": [
    "# 07 Save The model"
   ]
  },
  {
   "cell_type": "code",
   "execution_count": 49,
   "id": "7ef18782-f3f5-49c9-8dd9-1c7a85514952",
   "metadata": {},
   "outputs": [
    {
     "name": "stderr",
     "output_type": "stream",
     "text": [
      "2024-05-26 10:03:10.790592: W tensorflow/core/framework/cpu_allocator_impl.cc:80] Allocation of 150994944 exceeds 10% of free system memory.\n"
     ]
    }
   ],
   "source": [
    "# Save the model\n",
    "siamese_model.save('siamesemodel.h5')"
   ]
  },
  {
   "cell_type": "code",
   "execution_count": 51,
   "id": "4f2e8a9f-4e64-416f-99cf-82d4d2709830",
   "metadata": {},
   "outputs": [
    {
     "name": "stdout",
     "output_type": "stream",
     "text": [
      "WARNING:tensorflow:No training configuration found in the save file, so the model was *not* compiled. Compile it manually.\n"
     ]
    }
   ],
   "source": [
    "# Reload the model\n",
    "model = tf.keras.models.load_model('siamesemodel.h5',\n",
    "                                 custom_objects={'L1Dist':L1Dist, 'BinaryCrossentropy': tf.losses.BinaryCrossentropy})\n"
   ]
  },
  {
   "cell_type": "code",
   "execution_count": 52,
   "id": "898b5d7b-109e-4131-8677-444b8e78d2b8",
   "metadata": {},
   "outputs": [
    {
     "data": {
      "text/plain": [
       "array([[1.6581982e-06],\n",
       "       [6.9831822e-06],\n",
       "       [4.8773338e-05],\n",
       "       [8.2361976e-06],\n",
       "       [1.8195719e-06],\n",
       "       [1.3293083e-05],\n",
       "       [9.8859554e-04],\n",
       "       [7.3952657e-01],\n",
       "       [3.7771228e-04],\n",
       "       [4.1189366e-03],\n",
       "       [2.0543614e-03],\n",
       "       [9.9953890e-01],\n",
       "       [2.5601294e-06],\n",
       "       [9.9557233e-01],\n",
       "       [9.9836761e-01],\n",
       "       [9.3245244e-06]], dtype=float32)"
      ]
     },
     "execution_count": 52,
     "metadata": {},
     "output_type": "execute_result"
    }
   ],
   "source": [
    "model.predict([test_input, test_val])"
   ]
  },
  {
   "cell_type": "code",
   "execution_count": 53,
   "id": "4a28f220-b44c-49b4-90e6-6a7e83f880f5",
   "metadata": {},
   "outputs": [
    {
     "name": "stdout",
     "output_type": "stream",
     "text": [
      "Model: \"SiameseNetwork\"\n",
      "__________________________________________________________________________________________________\n",
      "Layer (type)                    Output Shape         Param #     Connected to                     \n",
      "==================================================================================================\n",
      "input_img (InputLayer)          [(None, 100, 100, 3) 0                                            \n",
      "__________________________________________________________________________________________________\n",
      "validation_img (InputLayer)     [(None, 100, 100, 3) 0                                            \n",
      "__________________________________________________________________________________________________\n",
      "embedding (Functional)          (None, 4096)         38960448    input_img[0][0]                  \n",
      "                                                                 validation_img[0][0]             \n",
      "__________________________________________________________________________________________________\n",
      "l1_dist_2 (L1Dist)              (None, 4096)         0           embedding[0][0]                  \n",
      "                                                                 embedding[1][0]                  \n",
      "__________________________________________________________________________________________________\n",
      "dense_1 (Dense)                 (None, 1)            4097        l1_dist_2[0][0]                  \n",
      "==================================================================================================\n",
      "Total params: 38,964,545\n",
      "Trainable params: 38,964,545\n",
      "Non-trainable params: 0\n",
      "__________________________________________________________________________________________________\n"
     ]
    }
   ],
   "source": [
    "model.summary()"
   ]
  },
  {
   "cell_type": "markdown",
   "id": "89e49949-87f4-4ea4-b506-5f021b5f091e",
   "metadata": {},
   "source": [
    "# 08 Real Time Test"
   ]
  },
  {
   "cell_type": "markdown",
   "id": "ce25c0e2-2305-4de7-965e-960173173d44",
   "metadata": {},
   "source": [
    "### 8.1 Verification Function"
   ]
  },
  {
   "cell_type": "code",
   "execution_count": 54,
   "id": "71e96ff9-4b82-4e34-ae20-3adc92ad4c1f",
   "metadata": {},
   "outputs": [],
   "source": [
    "def verify(frame, model, detection_threshold, verification_threshold):\n",
    "    # building result array\n",
    "    results = []\n",
    "    for image in os.listdir(os.path.join('application_data', 'verification_images')):\n",
    "        input_image = preprocess(os.path.join('application_data', 'input_image', 'input_images.jpg'))\n",
    "        validation_image = preprocess(os.path.join('application_data', 'verification_images', image))\n",
    "\n",
    "        # Make predictions\n",
    "        result = model.predict(list(np.expand_dims([input_image, validation_image], axis=1)))\n",
    "        results.append(result)\n",
    "\n",
    "    # Detection threshold: Metric above which a prediction is considered posetive\n",
    "    detection = np.sum(np.array(results) > detection_threshold)\n",
    "\n",
    "    # Verification threshold: proportion of positive predictions/total positive samples\n",
    "    verification = detection/ len(os.listdir(os.path.join('application_data', 'verification_images')))\n",
    "    verified= verification > verification_threshold\n",
    "    return results, verified\n",
    "\n",
    "    "
   ]
  },
  {
   "cell_type": "markdown",
   "id": "20870bf2-134d-42ae-885c-2e491e503e99",
   "metadata": {},
   "source": [
    "### 8.2 OpenCV RealTime Verification"
   ]
  },
  {
   "cell_type": "code",
   "execution_count": 55,
   "id": "660dd51f-c22c-49e6-95e5-66d363a6e787",
   "metadata": {},
   "outputs": [
    {
     "name": "stderr",
     "output_type": "stream",
     "text": [
      "[ WARN:0@513.571] global /croot/opencv-suite_1676452025216/work/modules/videoio/src/cap_gstreamer.cpp (862) isPipelinePlaying OpenCV | GStreamer warning: GStreamer: pipeline have not been created\n"
     ]
    }
   ],
   "source": [
    "cap = cv2.VideoCapture(0)\n",
    "while cap.isOpened():\n",
    "    ret,frame = cap.read()\n",
    "\n",
    "    # Cut-down the frame to 250, 250 pixels size\n",
    "    frame = frame[100:100+250, 200:200+250, :]\n",
    "    \n",
    "    cv2.imshow('Verification', frame)\n",
    "\n",
    "    # Verification trigger\n",
    "    if cv2.waitKey(10) & 0xFF == ord('v'):\n",
    "        # save input image to application_data/input_image folder\n",
    "        cv2.imwrite(os.path.join('application_data', 'input_image', 'input_images.jpg'), frame)\n",
    "\n",
    "        # Run verification\n",
    "        results, verified = verify(frame, model, 0.5, 0.85)\n",
    "        print(\"Is verified: {0} Probability out of 50: {1}\".format(verified, np.sum(np.squeeze(results) > 0.85)))\n",
    "        \n",
    "        \n",
    "        \n",
    "    if cv2.waitKey(10) & 0xFF == ord('q'):\n",
    "        break\n",
    "\n",
    "cap.release()\n",
    "cv2.destroyAllWindows()"
   ]
  },
  {
   "cell_type": "code",
   "execution_count": null,
   "id": "65d0c710-3c91-4fb8-bdb2-ef7646c94b0c",
   "metadata": {},
   "outputs": [],
   "source": []
  },
  {
   "cell_type": "code",
   "execution_count": null,
   "id": "380cf29b-8c36-4353-97fb-13bf19c541fb",
   "metadata": {},
   "outputs": [],
   "source": []
  },
  {
   "cell_type": "code",
   "execution_count": null,
   "id": "c3a88fa3-c8e8-4a30-bfc2-9977d0385341",
   "metadata": {},
   "outputs": [],
   "source": []
  }
 ],
 "metadata": {
  "kernelspec": {
   "display_name": "Python 3 (ipykernel)",
   "language": "python",
   "name": "python3"
  },
  "language_info": {
   "codemirror_mode": {
    "name": "ipython",
    "version": 3
   },
   "file_extension": ".py",
   "mimetype": "text/x-python",
   "name": "python",
   "nbconvert_exporter": "python",
   "pygments_lexer": "ipython3",
   "version": "3.9.19"
  }
 },
 "nbformat": 4,
 "nbformat_minor": 5
}
